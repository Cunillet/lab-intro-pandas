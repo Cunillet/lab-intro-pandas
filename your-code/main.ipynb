{
 "cells": [
  {
   "cell_type": "markdown",
   "metadata": {},
   "source": [
    "# Introduction to Pandas\n",
    "\n",
    "Complete the following set of exercises to solidify your knowledge of Pandas fundamentals."
   ]
  },
  {
   "cell_type": "markdown",
   "metadata": {},
   "source": [
    "#### 1. Import Numpy and Pandas and alias them to `np` and `pd` respectively."
   ]
  },
  {
   "cell_type": "code",
   "execution_count": 1,
   "metadata": {},
   "outputs": [],
   "source": [
    "# your code here\n",
    "import pandas as pd\n",
    "import numpy as np"
   ]
  },
  {
   "cell_type": "markdown",
   "metadata": {},
   "source": [
    "#### 2. Create a Pandas Series containing the elements of the list below."
   ]
  },
  {
   "cell_type": "code",
   "execution_count": 2,
   "metadata": {},
   "outputs": [],
   "source": [
    "lst = [5.7, 75.2, 74.4, 84.0, 66.5, 66.3, 55.8, 75.7, 29.1, 43.7]"
   ]
  },
  {
   "cell_type": "code",
   "execution_count": 3,
   "metadata": {},
   "outputs": [],
   "source": [
    "# your code here\n",
    "pd_series = pd.Series(lst)"
   ]
  },
  {
   "cell_type": "markdown",
   "metadata": {},
   "source": [
    "#### 3. Use indexing to return the third value in the Series above.\n",
    "\n",
    "*Hint: Remember that indexing begins at 0.*"
   ]
  },
  {
   "cell_type": "code",
   "execution_count": 5,
   "metadata": {},
   "outputs": [
    {
     "name": "stdout",
     "output_type": "stream",
     "text": "5.7\n"
    }
   ],
   "source": [
    "# your code here\n",
    "print(pd_series[0])"
   ]
  },
  {
   "cell_type": "markdown",
   "metadata": {},
   "source": [
    "#### 4. Create a Pandas DataFrame from the list of lists below. Each sublist should be represented as a row."
   ]
  },
  {
   "cell_type": "code",
   "execution_count": 6,
   "metadata": {},
   "outputs": [],
   "source": [
    "b = [[53.1, 95.0, 67.5, 35.0, 78.4],\n",
    "     [61.3, 40.8, 30.8, 37.8, 87.6],\n",
    "     [20.6, 73.2, 44.2, 14.6, 91.8],\n",
    "     [57.4, 0.1, 96.1, 4.2, 69.5],\n",
    "     [83.6, 20.5, 85.4, 22.8, 35.9],\n",
    "     [49.0, 69.0, 0.1, 31.8, 89.1],\n",
    "     [23.3, 40.7, 95.0, 83.8, 26.9],\n",
    "     [27.6, 26.4, 53.8, 88.8, 68.5],\n",
    "     [96.6, 96.4, 53.4, 72.4, 50.1],\n",
    "     [73.7, 39.0, 43.2, 81.6, 34.7]]"
   ]
  },
  {
   "cell_type": "code",
   "execution_count": 9,
   "metadata": {},
   "outputs": [
    {
     "name": "stdout",
     "output_type": "stream",
     "text": "0     1     2     3     4\n0  53.1  95.0  67.5  35.0  78.4\n1  61.3  40.8  30.8  37.8  87.6\n2  20.6  73.2  44.2  14.6  91.8\n3  57.4   0.1  96.1   4.2  69.5\n4  83.6  20.5  85.4  22.8  35.9\n5  49.0  69.0   0.1  31.8  89.1\n6  23.3  40.7  95.0  83.8  26.9\n7  27.6  26.4  53.8  88.8  68.5\n8  96.6  96.4  53.4  72.4  50.1\n9  73.7  39.0  43.2  81.6  34.7\n"
    }
   ],
   "source": [
    "# your code here\n",
    "df = pd.DataFrame(b)\n",
    "print(df)"
   ]
  },
  {
   "cell_type": "markdown",
   "metadata": {},
   "source": [
    "#### 5. Rename the data frame columns based on the names in the list below."
   ]
  },
  {
   "cell_type": "code",
   "execution_count": 15,
   "metadata": {},
   "outputs": [],
   "source": [
    "colnames = ['Score_1', 'Score_2', 'Score_3', 'Score_4', 'Score_5']"
   ]
  },
  {
   "cell_type": "code",
   "execution_count": 17,
   "metadata": {},
   "outputs": [
    {
     "name": "stdout",
     "output_type": "stream",
     "text": "Score_1  Score_2  Score_3  Score_4  Score_5\n0     53.1     95.0     67.5     35.0     78.4\n1     61.3     40.8     30.8     37.8     87.6\n2     20.6     73.2     44.2     14.6     91.8\n3     57.4      0.1     96.1      4.2     69.5\n4     83.6     20.5     85.4     22.8     35.9\n5     49.0     69.0      0.1     31.8     89.1\n6     23.3     40.7     95.0     83.8     26.9\n7     27.6     26.4     53.8     88.8     68.5\n8     96.6     96.4     53.4     72.4     50.1\n9     73.7     39.0     43.2     81.6     34.7\n"
    }
   ],
   "source": [
    "# your code here\n",
    "new_names = {0 : colnames[0], 1 : colnames[1], 2 : colnames[2], 3 : colnames[3], 4 : colnames[4]}\n",
    "df.rename(columns = new_names, inplace = True)\n",
    "print(df)"
   ]
  },
  {
   "cell_type": "markdown",
   "metadata": {},
   "source": [
    "#### 6. Create a subset of this data frame that contains only the Score 1, 3, and 5 columns."
   ]
  },
  {
   "cell_type": "code",
   "execution_count": 29,
   "metadata": {},
   "outputs": [
    {
     "name": "stdout",
     "output_type": "stream",
     "text": "Score_1  Score_3  Score_5\n0     53.1     67.5     78.4\n1     61.3     30.8     87.6\n2     20.6     44.2     91.8\n3     57.4     96.1     69.5\n4     83.6     85.4     35.9\n5     49.0      0.1     89.1\n6     23.3     95.0     26.9\n7     27.6     53.8     68.5\n8     96.6     53.4     50.1\n9     73.7     43.2     34.7\n"
    }
   ],
   "source": [
    "# your code here\n",
    "sub_df = df.loc[:,['Score_1', 'Score_3', 'Score_5']]\n",
    "print(sub_df)"
   ]
  },
  {
   "cell_type": "markdown",
   "metadata": {},
   "source": [
    "#### 7. From the original data frame, calculate the average Score_3 value."
   ]
  },
  {
   "cell_type": "code",
   "execution_count": 32,
   "metadata": {},
   "outputs": [
    {
     "name": "stdout",
     "output_type": "stream",
     "text": "56.95000000000001\n"
    }
   ],
   "source": [
    "# your code here\n",
    "print(df['Score_3'].mean())"
   ]
  },
  {
   "cell_type": "markdown",
   "metadata": {},
   "source": [
    "#### 8. From the original data frame, calculate the maximum Score_4 value."
   ]
  },
  {
   "cell_type": "code",
   "execution_count": 33,
   "metadata": {},
   "outputs": [
    {
     "name": "stdout",
     "output_type": "stream",
     "text": "88.8\n"
    }
   ],
   "source": [
    "# your code here\n",
    "print(df['Score_4'].max())"
   ]
  },
  {
   "cell_type": "markdown",
   "metadata": {},
   "source": [
    "#### 9. From the original data frame, calculate the median Score 2 value."
   ]
  },
  {
   "cell_type": "code",
   "execution_count": 34,
   "metadata": {},
   "outputs": [
    {
     "name": "stdout",
     "output_type": "stream",
     "text": "40.75\n"
    }
   ],
   "source": [
    "# your code here\n",
    "print(df['Score_2'].median())"
   ]
  },
  {
   "cell_type": "markdown",
   "metadata": {},
   "source": [
    "#### 10. Create a Pandas DataFrame from the dictionary of product orders below."
   ]
  },
  {
   "cell_type": "code",
   "execution_count": 35,
   "metadata": {},
   "outputs": [],
   "source": [
    "orders = {'Description': ['LUNCH BAG APPLE DESIGN',\n",
    "  'SET OF 60 VINTAGE LEAF CAKE CASES ',\n",
    "  'RIBBON REEL STRIPES DESIGN ',\n",
    "  'WORLD WAR 2 GLIDERS ASSTD DESIGNS',\n",
    "  'PLAYING CARDS JUBILEE UNION JACK',\n",
    "  'POPCORN HOLDER',\n",
    "  'BOX OF VINTAGE ALPHABET BLOCKS',\n",
    "  'PARTY BUNTING',\n",
    "  'JAZZ HEARTS ADDRESS BOOK',\n",
    "  'SET OF 4 SANTA PLACE SETTINGS'],\n",
    " 'Quantity': [1, 24, 1, 2880, 2, 7, 1, 4, 10, 48],\n",
    " 'UnitPrice': [1.65, 0.55, 1.65, 0.18, 1.25, 0.85, 11.95, 4.95, 0.19, 1.25],\n",
    " 'Revenue': [1.65, 13.2, 1.65, 518.4, 2.5, 5.95, 11.95, 19.8, 1.9, 60.0]}"
   ]
  },
  {
   "cell_type": "code",
   "execution_count": 37,
   "metadata": {},
   "outputs": [
    {
     "name": "stdout",
     "output_type": "stream",
     "text": "Description  Quantity  UnitPrice  Revenue\n0              LUNCH BAG APPLE DESIGN         1       1.65     1.65\n1  SET OF 60 VINTAGE LEAF CAKE CASES         24       0.55    13.20\n2         RIBBON REEL STRIPES DESIGN          1       1.65     1.65\n3   WORLD WAR 2 GLIDERS ASSTD DESIGNS      2880       0.18   518.40\n4    PLAYING CARDS JUBILEE UNION JACK         2       1.25     2.50\n5                      POPCORN HOLDER         7       0.85     5.95\n6      BOX OF VINTAGE ALPHABET BLOCKS         1      11.95    11.95\n7                       PARTY BUNTING         4       4.95    19.80\n8            JAZZ HEARTS ADDRESS BOOK        10       0.19     1.90\n9       SET OF 4 SANTA PLACE SETTINGS        48       1.25    60.00\n"
    }
   ],
   "source": [
    "# your code here\n",
    "prods = pd.DataFrame(orders)\n",
    "print(prods)"
   ]
  },
  {
   "cell_type": "markdown",
   "metadata": {},
   "source": [
    "#### 11. Calculate the total quantity ordered and revenue generated from these orders."
   ]
  },
  {
   "cell_type": "code",
   "execution_count": 40,
   "metadata": {},
   "outputs": [
    {
     "name": "stdout",
     "output_type": "stream",
     "text": "Quantity    2978.0\nRevenue      637.0\ndtype: float64\n"
    }
   ],
   "source": [
    "# your code here\n",
    "print(prods[['Quantity', 'Revenue']].sum())"
   ]
  },
  {
   "cell_type": "markdown",
   "metadata": {},
   "source": [
    "#### 12. Obtain the prices of the most expensive and least expensive items ordered and print the difference."
   ]
  },
  {
   "cell_type": "code",
   "execution_count": 41,
   "metadata": {},
   "outputs": [
    {
     "name": "stdout",
     "output_type": "stream",
     "text": "11.77\n"
    }
   ],
   "source": [
    "# your code here\n",
    "min_price = prods['UnitPrice'].min()\n",
    "max_price = prods['UnitPrice'].max()\n",
    "print(max_price - min_price)"
   ]
  },
  {
   "cell_type": "code",
   "execution_count": null,
   "metadata": {},
   "outputs": [],
   "source": []
  }
 ],
 "metadata": {
  "kernelspec": {
   "display_name": "Python 3.7.6 64-bit",
   "language": "python",
   "name": "python37664bite61034f5ef0c466e91726dec7b83c0f7"
  },
  "language_info": {
   "codemirror_mode": {
    "name": "ipython",
    "version": 3
   },
   "file_extension": ".py",
   "mimetype": "text/x-python",
   "name": "python",
   "nbconvert_exporter": "python",
   "pygments_lexer": "ipython3",
   "version": "3.7.6-final"
  }
 },
 "nbformat": 4,
 "nbformat_minor": 2
}